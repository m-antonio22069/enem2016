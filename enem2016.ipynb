{
  "nbformat": 4,
  "nbformat_minor": 0,
  "metadata": {
    "colab": {
      "name": "enem2016.ipynb",
      "provenance": [],
      "collapsed_sections": [],
      "authorship_tag": "ABX9TyMjehUd+zpTFbYqUgwm0ShA",
      "include_colab_link": true
    },
    "kernelspec": {
      "name": "python3",
      "display_name": "Python 3"
    },
    "accelerator": "GPU"
  },
  "cells": [
    {
      "cell_type": "markdown",
      "metadata": {
        "id": "view-in-github",
        "colab_type": "text"
      },
      "source": [
        "<a href=\"https://colab.research.google.com/github/m-antonio22069/enem2016/blob/master/enem2016.ipynb\" target=\"_parent\"><img src=\"https://colab.research.google.com/assets/colab-badge.svg\" alt=\"Open In Colab\"/></a>"
      ]
    },
    {
      "cell_type": "code",
      "metadata": {
        "id": "h3S-Hu73CP9M",
        "colab_type": "code",
        "colab": {}
      },
      "source": [
        "# Importando Bibliotecas\n",
        "import pandas as pd\n",
        "import matplotlib.pyplot as plt\n",
        "import seaborn as sns\n",
        "plt.style.use('ggplot')\n",
        "from sklearn.preprocessing import StandardScaler, MinMaxScaler\n",
        "from sklearn.linear_model import LinearRegression\n",
        "from sklearn.ensemble import RandomForestRegressor"
      ],
      "execution_count": 0,
      "outputs": []
    },
    {
      "cell_type": "code",
      "metadata": {
        "id": "VvMKklDvxKx5",
        "colab_type": "code",
        "colab": {}
      },
      "source": [
        "# Importando base de dados\n",
        "dataset_train = pd.read_csv('train.csv')\n",
        "dataset_test = pd.read_csv('test.csv')\n",
        "\n",
        "dados = pd.DataFrame()\n",
        "index = 0\n",
        "for i in dataset_test.columns:\n",
        "    dados.insert(loc=index, column=i, value=dataset_train[i])\n",
        "    index+=1\n",
        "\n",
        "dados.insert(loc=47, column='NU_NOTA_MT', value=dataset_train['NU_NOTA_MT'])"
      ],
      "execution_count": 0,
      "outputs": []
    },
    {
      "cell_type": "code",
      "metadata": {
        "id": "eX7WNBsWxPFy",
        "colab_type": "code",
        "colab": {}
      },
      "source": [
        "#Tratando dados nao essenciais ou com muitas faltas de informação\n",
        "dados = dados.drop(columns=['NU_INSCRICAO'])\n",
        "dados = dados.drop(columns = ['SG_UF_RESIDENCIA'])\n",
        "dados = dados.drop(columns=['TP_DEPENDENCIA_ADM_ESC'])\n",
        "dados = dados.drop(columns = ['CO_PROVA_CN'])\n",
        "dados = dados.drop(columns = ['CO_PROVA_CH'])\n",
        "dados = dados.drop(columns = ['CO_PROVA_LC'])\n",
        "dados = dados.drop(columns = ['CO_PROVA_MT'])\n",
        "dados = dados.drop(columns = ['Q027'])\n",
        "dados = dados.drop(columns = ['TP_ENSINO'])"
      ],
      "execution_count": 0,
      "outputs": []
    },
    {
      "cell_type": "code",
      "metadata": {
        "id": "XKmDsZ7MTeSy",
        "colab_type": "code",
        "colab": {}
      },
      "source": [
        "# Tratando dados nulos \n",
        "dados.isnull().sum()"
      ],
      "execution_count": 0,
      "outputs": []
    },
    {
      "cell_type": "code",
      "metadata": {
        "id": "CUm_-2bYS9of",
        "colab_type": "code",
        "colab": {}
      },
      "source": [
        "dados['NU_NOTA_CN']=dados['NU_NOTA_CN'].fillna(0)\n",
        "dados['NU_NOTA_CH']=dados['NU_NOTA_CH'].fillna(0)\n",
        "dados['NU_NOTA_LC']=dados['NU_NOTA_LC'].fillna(0)\n",
        "dados['NU_NOTA_MT']=dados['NU_NOTA_MT'].fillna(0)\n",
        "\n",
        "dados['TP_STATUS_REDACAO']=dados['TP_STATUS_REDACAO'].fillna(2)\n",
        "\n",
        "dados['NU_NOTA_COMP1']=dados['NU_NOTA_COMP1'].fillna(0)\n",
        "dados['NU_NOTA_COMP2']=dados['NU_NOTA_COMP2'].fillna(0)\n",
        "dados['NU_NOTA_COMP3']=dados['NU_NOTA_COMP3'].fillna(0)\n",
        "dados['NU_NOTA_COMP4']=dados['NU_NOTA_COMP4'].fillna(0)\n",
        "dados['NU_NOTA_COMP5']=dados['NU_NOTA_COMP5'].fillna(0)\n",
        "\n",
        "dados['NU_NOTA_REDACAO']=dados['NU_NOTA_REDACAO'].fillna(0)"
      ],
      "execution_count": 0,
      "outputs": []
    },
    {
      "cell_type": "code",
      "metadata": {
        "id": "QAHmuTwMUUsF",
        "colab_type": "code",
        "colab": {}
      },
      "source": [
        "# Codificando dados String => Numerico\n",
        "dados['TP_SEXO']=dados['TP_SEXO'].replace('F',0)\n",
        "dados['TP_SEXO']=dados['TP_SEXO'].replace('M',1)"
      ],
      "execution_count": 0,
      "outputs": []
    },
    {
      "cell_type": "code",
      "metadata": {
        "id": "m9aGmQg1XpVN",
        "colab_type": "code",
        "colab": {}
      },
      "source": [
        "from collections import Counter\n",
        "\n",
        "questoes = ['Q001','Q002','Q006', 'Q024','Q025','Q026', 'Q047']\n",
        "\n",
        "for questao in questoes:\n",
        "  counter = sorted(Counter(dados[questao]))\n",
        "  for letra in counter:\n",
        "    dados[questao]=dados[questao].replace(letra, counter.index(letra))\n"
      ],
      "execution_count": 0,
      "outputs": []
    },
    {
      "cell_type": "code",
      "metadata": {
        "id": "_XrYv1Isxewv",
        "colab_type": "code",
        "colab": {}
      },
      "source": [
        "# Extraindo correlação entre colunas\n",
        "correlacao = dados.corrwith(dados['NU_NOTA_MT']).iloc[:-1].to_frame()\n",
        "correlacao['abs']=correlacao[0].abs()\n",
        "correlacao_ordenada = correlacao.sort_values('abs',ascending=False)[0]\n",
        "\n",
        "fig, ax = plt.subplots(figsize=(10,20))\n",
        "sns.heatmap(correlacao_ordenada.to_frame(),cmap='coolwarm',annot=True, \n",
        "            vmin=1, vmax=1, ax=ax)"
      ],
      "execution_count": 0,
      "outputs": []
    },
    {
      "cell_type": "code",
      "metadata": {
        "id": "IZG8tUV0-IBl",
        "colab_type": "code",
        "colab": {}
      },
      "source": [
        "# Removendo Features com baixa correlação \n",
        "dict(correlacao_ordenada)\n",
        "key = list(correlacao_ordenada.keys())\n",
        "\n",
        "corr = correlacao_ordenada[key.index('Q001'):]\n",
        "\n",
        "for colunm in corr.keys():\n",
        "  dados = dados.drop(columns = colunm)"
      ],
      "execution_count": 0,
      "outputs": []
    },
    {
      "cell_type": "code",
      "metadata": {
        "id": "El6OulyEyQFn",
        "colab_type": "code",
        "colab": {}
      },
      "source": [
        "# Separando classe e variavel\n",
        "\n",
        "variaveis = dados.iloc[:,:21].values\n",
        "classe = dados.iloc[:,21].values"
      ],
      "execution_count": 0,
      "outputs": []
    },
    {
      "cell_type": "code",
      "metadata": {
        "id": "VIUB3u3uPQ0M",
        "colab_type": "code",
        "colab": {}
      },
      "source": [
        "# Dividindo Base de dados\n",
        "\n",
        "from sklearn.model_selection import train_test_split\n",
        "\n",
        "x_treino, x_teste, y_treino, y_teste = train_test_split(variaveis,\n",
        "                                                        classe,\n",
        "                                                        test_size=0.2,\n",
        "                                                        random_state=0)"
      ],
      "execution_count": 0,
      "outputs": []
    },
    {
      "cell_type": "code",
      "metadata": {
        "id": "Smje3eW2qjJd",
        "colab_type": "code",
        "colab": {}
      },
      "source": [
        "# Criando piperlines \n",
        "\n",
        "from sklearn.pipeline import Pipeline\n",
        "\n",
        "pip_std_ForestRandom = Pipeline([('scaler',StandardScaler()),\n",
        "                                 ('RandomForestRegressor', RandomForestRegressor())])\n",
        "\n",
        "pip_min_max_ForestRandom = Pipeline([('minmax',MinMaxScaler()),\n",
        "                                 ('RandomForestRegressor', RandomForestRegressor())])\n",
        "\n",
        "pip_std_LinearRegression = Pipeline([('scaler',StandardScaler()),\n",
        "                                 ('RandomForestRegressor', LinearRegression())])\n",
        "\n",
        "pip_min_max_LinearRegression = Pipeline([('minmax',MinMaxScaler()),\n",
        "                                 ('RandomForestRegressor', LinearRegression())])"
      ],
      "execution_count": 0,
      "outputs": []
    },
    {
      "cell_type": "markdown",
      "metadata": {
        "id": "X-fadfQ5vAx_",
        "colab_type": "text"
      },
      "source": [
        "**Random forest**"
      ]
    },
    {
      "cell_type": "code",
      "metadata": {
        "id": "bXODNNjds-UC",
        "colab_type": "code",
        "colab": {}
      },
      "source": [
        "# treinando modelo Random forest std\n",
        "pip_std_ForestRandom.fit(x_treino,y_treino)"
      ],
      "execution_count": 0,
      "outputs": []
    },
    {
      "cell_type": "code",
      "metadata": {
        "id": "U4QVyfz0uAxT",
        "colab_type": "code",
        "colab": {}
      },
      "source": [
        "# Retirando score\n",
        "pip_std_ForestRandom.score(x_teste, y_teste)"
      ],
      "execution_count": 0,
      "outputs": []
    },
    {
      "cell_type": "code",
      "metadata": {
        "id": "ayYl5fkQurO2",
        "colab_type": "code",
        "colab": {}
      },
      "source": [
        "# treinando modelo Random forest min_max\n",
        "pip_min_max_ForestRandom.fit(x_treino, y_treino)"
      ],
      "execution_count": 0,
      "outputs": []
    },
    {
      "cell_type": "code",
      "metadata": {
        "id": "5ciBazxCu5Dr",
        "colab_type": "code",
        "colab": {}
      },
      "source": [
        "# Retirando score\n",
        "pip_min_max_ForestRandom.score(x_teste, y_teste)"
      ],
      "execution_count": 0,
      "outputs": []
    },
    {
      "cell_type": "markdown",
      "metadata": {
        "id": "vUTl_HiBvHM2",
        "colab_type": "text"
      },
      "source": [
        "**Linear Regressor**"
      ]
    },
    {
      "cell_type": "code",
      "metadata": {
        "id": "Gj53cK30vMhL",
        "colab_type": "code",
        "colab": {}
      },
      "source": [
        "# Treinando modelo de regressão linear std\n",
        "pip_std_LinearRegression.fit(x_treino, y_treino)"
      ],
      "execution_count": 0,
      "outputs": []
    },
    {
      "cell_type": "code",
      "metadata": {
        "id": "8Lqo79OxvXBo",
        "colab_type": "code",
        "colab": {}
      },
      "source": [
        "#retirando score\n",
        "pip_std_LinearRegression.score(x_teste,y_teste)"
      ],
      "execution_count": 0,
      "outputs": []
    },
    {
      "cell_type": "code",
      "metadata": {
        "id": "1fzFyzu4vdox",
        "colab_type": "code",
        "colab": {}
      },
      "source": [
        "# Treinando modelo de regressão linear min_max\n",
        "pip_min_max_LinearRegression.fit(x_treino, y_treino)"
      ],
      "execution_count": 0,
      "outputs": []
    },
    {
      "cell_type": "code",
      "metadata": {
        "id": "ANy2g8smvj4t",
        "colab_type": "code",
        "colab": {}
      },
      "source": [
        "#retirando score\n",
        "pip_min_max_LinearRegression.score(x_teste,y_teste)"
      ],
      "execution_count": 0,
      "outputs": []
    },
    {
      "cell_type": "code",
      "metadata": {
        "id": "akYd_o1M89k7",
        "colab_type": "code",
        "colab": {}
      },
      "source": [
        "# Aplicando o modelo ao problema\n",
        "\n",
        "df = pd.DataFrame()\n",
        "index = 0\n",
        "for i in dados.columns:\n",
        "  if i != 'NU_NOTA_MT':\n",
        "    df.insert(loc=index, column=i, value=dataset_test[i])\n",
        "    index+=1\n",
        "\n",
        "\n",
        "# Tratando dados\n",
        "\n",
        "df['NU_NOTA_CN']=df['NU_NOTA_CN'].fillna(0)\n",
        "df['NU_NOTA_CH']=df['NU_NOTA_CH'].fillna(0)\n",
        "df['NU_NOTA_LC']=df['NU_NOTA_LC'].fillna(0)\n",
        "\n",
        "df['TP_STATUS_REDACAO']=df['TP_STATUS_REDACAO'].fillna(2)\n",
        "\n",
        "df['NU_NOTA_COMP1']=df['NU_NOTA_COMP1'].fillna(0)\n",
        "df['NU_NOTA_COMP2']=df['NU_NOTA_COMP2'].fillna(0)\n",
        "df['NU_NOTA_COMP3']=df['NU_NOTA_COMP3'].fillna(0)\n",
        "df['NU_NOTA_COMP4']=df['NU_NOTA_COMP4'].fillna(0)\n",
        "df['NU_NOTA_COMP5']=df['NU_NOTA_COMP5'].fillna(0)\n",
        "\n",
        "df['NU_NOTA_REDACAO']=df['NU_NOTA_REDACAO'].fillna(0)\n",
        "\n",
        "from collections import Counter\n",
        "\n",
        "questoes = ['Q002','Q006', 'Q024','Q026', 'Q047']\n",
        "\n",
        "for questao in questoes:\n",
        "  counter = sorted(Counter(df[questao]))\n",
        "  for letra in counter:\n",
        "    df[questao]=df[questao].replace(letra, counter.index(letra))\n",
        "\n",
        "\n",
        "previsoes = pip_min_max_ForestRandom.predict(df)"
      ],
      "execution_count": 0,
      "outputs": []
    },
    {
      "cell_type": "code",
      "metadata": {
        "id": "udfdw3JQ9cMa",
        "colab_type": "code",
        "colab": {}
      },
      "source": [
        "resposta = pd.DataFrame()\n",
        "resposta.insert(loc=0, column='NU_INSCRICAO', value=dataset_test['NU_INSCRICAO'])\n",
        "resposta.insert(loc=1,column='NU_NOTA_MT', value=previsoes[:])\n",
        "\n",
        "resposta.to_csv('answer.csv', sep=',', index=False)\n",
        "\n",
        "resp = pd.read_csv('answer.csv')    "
      ],
      "execution_count": 0,
      "outputs": []
    }
  ]
}